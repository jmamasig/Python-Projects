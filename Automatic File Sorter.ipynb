{
 "cells": [
  {
   "cell_type": "markdown",
   "id": "f1491dde",
   "metadata": {},
   "source": [
    "# Automatic File Sorter in File Explorer"
   ]
  },
  {
   "cell_type": "code",
   "execution_count": 1,
   "id": "286f991a",
   "metadata": {},
   "outputs": [],
   "source": [
    "# importing\n",
    "\n",
    "import os, shutil\n",
    "import time"
   ]
  },
  {
   "cell_type": "code",
   "execution_count": 2,
   "id": "b9b299d1",
   "metadata": {},
   "outputs": [],
   "source": [
    "path = r\"C:/Users/Joven/Desktop/Portfolio/File Sorting Project/\""
   ]
  },
  {
   "cell_type": "code",
   "execution_count": 3,
   "id": "0db10c68",
   "metadata": {},
   "outputs": [
    {
     "data": {
      "text/plain": [
       "['image files',\n",
       " 'Test - PNG.png',\n",
       " 'Test Excel.xlsx',\n",
       " 'Test Notepad.txt',\n",
       " 'Test Word.docx',\n",
       " 'Test.jpg',\n",
       " 'Test2 - PNG.png',\n",
       " 'Test2.jpg',\n",
       " 'text files',\n",
       " 'word files',\n",
       " 'xlsx files']"
      ]
     },
     "execution_count": 3,
     "metadata": {},
     "output_type": "execute_result"
    }
   ],
   "source": [
    "os.listdir(path)"
   ]
  },
  {
   "cell_type": "code",
   "execution_count": 4,
   "id": "fd0212fa",
   "metadata": {},
   "outputs": [],
   "source": [
    "# creating folders\n",
    "\n",
    "folder_names = ['xlsx files', 'image files', 'text files', 'word files']\n",
    "\n",
    "for loop in range(0,4):\n",
    "    if not os.path.exists(path + folder_names[loop]):\n",
    "        os.makedirs((path + folder_names[loop]))"
   ]
  },
  {
   "cell_type": "code",
   "execution_count": 5,
   "id": "f9b3d917",
   "metadata": {},
   "outputs": [],
   "source": [
    "file_name = os.listdir(path)"
   ]
  },
  {
   "cell_type": "code",
   "execution_count": 6,
   "id": "c5bdbbd8",
   "metadata": {},
   "outputs": [],
   "source": [
    "# organizing folders\n",
    "\n",
    "def org_folder():\n",
    "    for file in file_name:\n",
    "        if \".xlsx\" in file and not os.path.exists(path + \"xlsx files/\" + file):\n",
    "            shutil.move(path + file, path + \"xlsx files/\" + file)\n",
    "        elif \".txt\" in file and not os.path.exists(path + \"text files/\" + file):\n",
    "            shutil.move(path + file, path + \"text files/\" + file)\n",
    "        elif \".png\" in file and not os.path.exists(path + \"image files/\" + file):\n",
    "            shutil.move(path + file, path + \"image files/\" + file)\n",
    "        elif \".jpg\" in file and not os.path.exists(path + \"image files/\" + file):\n",
    "            shutil.move(path + file, path + \"image files/\" + file)\n",
    "        elif \".docx\" in file and not os.path.exists(path + \"word files/\" + file):\n",
    "            shutil.move(path + file, path + \"word files/\" + file)"
   ]
  },
  {
   "cell_type": "code",
   "execution_count": null,
   "id": "c3a3ff5f",
   "metadata": {},
   "outputs": [],
   "source": [
    "# timer execution twice per day\n",
    "\n",
    "while(True):\n",
    "    org_folder()\n",
    "    time.sleep(43200)"
   ]
  }
 ],
 "metadata": {
  "kernelspec": {
   "display_name": "Python 3 (ipykernel)",
   "language": "python",
   "name": "python3"
  },
  "language_info": {
   "codemirror_mode": {
    "name": "ipython",
    "version": 3
   },
   "file_extension": ".py",
   "mimetype": "text/x-python",
   "name": "python",
   "nbconvert_exporter": "python",
   "pygments_lexer": "ipython3",
   "version": "3.11.5"
  }
 },
 "nbformat": 4,
 "nbformat_minor": 5
}
