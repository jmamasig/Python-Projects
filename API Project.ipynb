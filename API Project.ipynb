{
 "cells": [
  {
   "cell_type": "code",
   "execution_count": null,
   "id": "4e878e4d",
   "metadata": {},
   "outputs": [],
   "source": [
    "# Original code given by Coin Market Cap website\n",
    "\n",
    "from requests import Request, Session\n",
    "from requests.exceptions import ConnectionError, Timeout, TooManyRedirects\n",
    "import json\n",
    "\n",
    "url = 'https://sandbox-api.coinmarketcap.com/v1/cryptocurrency/listings/latest' \n",
    "parameters = {\n",
    "  'start':'1',\n",
    "  'limit':'5000',\n",
    "  'convert':'USD'\n",
    "}\n",
    "headers = {\n",
    "  'Accepts': 'application/json',\n",
    "  'X-CMC_PRO_API_KEY': '0ad53085-1cb2-4eb8-ad9e-3ffbd7e56509',\n",
    "}\n",
    "\n",
    "session = Session()\n",
    "session.headers.update(headers)\n",
    "\n",
    "try:\n",
    "  response = session.get(url, params=parameters)\n",
    "  data = json.loads(response.text)\n",
    "  print(data)\n",
    "except (ConnectionError, Timeout, TooManyRedirects) as e:\n",
    "  print(e)"
   ]
  },
  {
   "cell_type": "code",
   "execution_count": null,
   "id": "50fdcaf0",
   "metadata": {},
   "outputs": [],
   "source": [
    "# Adjusted code w my API and production URL\n",
    "\n",
    "from requests import Request, Session\n",
    "from requests.exceptions import ConnectionError, Timeout, TooManyRedirects\n",
    "import json\n",
    "\n",
    "url = 'https://pro-api.coinmarketcap.com/v1/cryptocurrency/listings/latest' \n",
    "parameters = {\n",
    "  'start':'1',\n",
    "  'limit':'15',\n",
    "  'convert':'USD'\n",
    "}\n",
    "headers = {\n",
    "  'Accepts': 'application/json',\n",
    "  'X-CMC_PRO_API_KEY': '42a9d404-6f39-4a6d-8533-520dbc771c80',\n",
    "}\n",
    "\n",
    "session = Session()\n",
    "session.headers.update(headers)\n",
    "\n",
    "try:\n",
    "  response = session.get(url, params=parameters)\n",
    "  data = json.loads(response.text)\n",
    "  print(data)\n",
    "except (ConnectionError, Timeout, TooManyRedirects) as e:\n",
    "  print(e)"
   ]
  },
  {
   "cell_type": "code",
   "execution_count": null,
   "id": "dc101cb9",
   "metadata": {},
   "outputs": [],
   "source": [
    "# Identifying data type\n",
    "\n",
    "type(data)"
   ]
  },
  {
   "cell_type": "code",
   "execution_count": null,
   "id": "4013e62d",
   "metadata": {},
   "outputs": [],
   "source": [
    "import pandas as pd"
   ]
  },
  {
   "cell_type": "code",
   "execution_count": null,
   "id": "85d073ca",
   "metadata": {},
   "outputs": [],
   "source": [
    "# Displays full array of columns rather than a summary\n",
    "\n",
    "pd.set_option('display.max_columns', None)"
   ]
  },
  {
   "cell_type": "code",
   "execution_count": null,
   "id": "b1b46542",
   "metadata": {},
   "outputs": [],
   "source": [
    "# Normalizes the data and makes it simpler to read\n",
    "\n",
    "pd.json_normalize(data['data'])"
   ]
  },
  {
   "cell_type": "code",
   "execution_count": null,
   "id": "d1bc450f",
   "metadata": {},
   "outputs": [],
   "source": [
    "# Creating df and adding a time stamp for the data\n",
    "\n",
    "df = pd.json_normalize(data['data'])\n",
    "df['timestamp'] = pd.to_datetime('now')\n",
    "\n",
    "df"
   ]
  },
  {
   "cell_type": "code",
   "execution_count": null,
   "id": "65ac67f0",
   "metadata": {},
   "outputs": [],
   "source": [
    "# Creating a function that runs the api\n",
    "\n",
    "def api_runner():\n",
    "    global df\n",
    "    url = 'https://pro-api.coinmarketcap.com/v1/cryptocurrency/listings/latest' \n",
    "    parameters = {\n",
    "      'start':'1',\n",
    "      'limit':'15',\n",
    "      'convert':'USD'\n",
    "    }\n",
    "    headers = {\n",
    "      'Accepts': 'application/json',\n",
    "      'X-CMC_PRO_API_KEY': '42a9d404-6f39-4a6d-8533-520dbc771c80',\n",
    "    }\n",
    "\n",
    "    session = Session()\n",
    "    session.headers.update(headers)\n",
    "\n",
    "    try:\n",
    "      response = session.get(url, params=parameters)\n",
    "      data = json.loads(response.text)\n",
    "    except (ConnectionError, Timeout, TooManyRedirects) as e:\n",
    "      print(e)\n",
    "    \n",
    "    df2 = pd.json_normalize(data['data'])\n",
    "    df2['timestamp'] = pd.to_datetime('now')\n",
    "    df_append = pd.DataFrame(df2)\n",
    "\n",
    "    df = pd.concat([df, df_append])\n",
    "    \n",
    "# Alternative option for CSV conversion rather than being kept in the df\n",
    "#    df2 = pd.json_normalize(data['data'])\n",
    "#    df2['timestamp'] = pd.to_datetime('now')\n",
    "#    df_append = pd.DataFrame(df2)\n",
    "#    df\n",
    "\n",
    "#    if not os.path.isfile(r'C:\\Users\\Joven\\Desktop\\Portfolio\\Automated Crypto API Pull\\API.csv')\n",
    "#        df.to_csv(r'C:\\Users\\Joven\\Desktop\\Portfolio\\Automated Crypto API Pull\\API.csv', header = 'column_names')\n",
    "#    else:\n",
    "#        df.to_csv(r'C:\\Users\\Joven\\Desktop\\Portfolio\\Automated Crypto API Pull\\API.csv', mode = 'a', header = False)\n",
    "\n",
    "#    df = pd.read_csv(r'C:\\Users\\Joven\\Desktop\\Portfolio\\Automated Crypto API Pull\\API.csv')"
   ]
  },
  {
   "cell_type": "code",
   "execution_count": null,
   "id": "e60cb2fb",
   "metadata": {},
   "outputs": [],
   "source": [
    "# Automation\n",
    "\n",
    "import os\n",
    "from time import time\n",
    "from time import sleep\n",
    "\n",
    "# Creating the loop\n",
    "\n",
    "for i in range(10):\n",
    "    api_runner()\n",
    "    print('API Completed Successfully')\n",
    "    sleep(60)\n",
    "exit()"
   ]
  },
  {
   "cell_type": "code",
   "execution_count": null,
   "id": "4f1d550e",
   "metadata": {},
   "outputs": [],
   "source": [
    "df"
   ]
  },
  {
   "cell_type": "code",
   "execution_count": null,
   "id": "6f263bff",
   "metadata": {},
   "outputs": [],
   "source": [
    "# Simple number standardization\n",
    "\n",
    "pd.set_option('display.float_format', lambda x: '%.5f' % x)\n",
    "\n",
    "df"
   ]
  },
  {
   "cell_type": "code",
   "execution_count": null,
   "id": "b99b2162",
   "metadata": {},
   "outputs": [],
   "source": [
    "# Displays the coin trends over time\n",
    "\n",
    "df3 = df.groupby('name', sort=False)[['quote.USD.percent_change_1h','quote.USD.percent_change_24h','quote.USD.percent_change_7d','quote.USD.percent_change_30d','quote.USD.percent_change_60d','quote.USD.percent_change_90d']].mean()\n",
    "df3"
   ]
  },
  {
   "cell_type": "code",
   "execution_count": null,
   "id": "1671801f",
   "metadata": {},
   "outputs": [],
   "source": [
    "# Need to chang the headers for better usability\n",
    "\n",
    "df4 = df3.stack()\n",
    "df4"
   ]
  },
  {
   "cell_type": "code",
   "execution_count": null,
   "id": "e6e649a7",
   "metadata": {},
   "outputs": [],
   "source": [
    "# Standardizing the format of the df\n",
    "\n",
    "df5 = df4.to_frame(name = 'values')\n",
    "df5"
   ]
  },
  {
   "cell_type": "code",
   "execution_count": null,
   "id": "db300acb",
   "metadata": {},
   "outputs": [],
   "source": [
    "df5.count()"
   ]
  },
  {
   "cell_type": "code",
   "execution_count": null,
   "id": "6f309674",
   "metadata": {},
   "outputs": [],
   "source": [
    "# Creating a new index\n",
    "\n",
    "index = pd.Index(range(90))\n",
    "\n",
    "df6 = df5.reset_index()\n",
    "df6"
   ]
  },
  {
   "cell_type": "code",
   "execution_count": null,
   "id": "e41f682f",
   "metadata": {},
   "outputs": [],
   "source": [
    "df7 = df6.rename(columns={'level_1': 'percent_change'})\n",
    "df7"
   ]
  },
  {
   "cell_type": "code",
   "execution_count": null,
   "id": "ba740fd2",
   "metadata": {},
   "outputs": [],
   "source": [
    "# Standardizing percent_change column\n",
    "\n",
    "df7['percent_change'] = df7['percent_change'].replace(['quote.USD.percent_change_1h', 'quote.USD.percent_change_24h','quote.USD.percent_change_7d','quote.USD.percent_change_30d','quote.USD.percent_change_60d','quote.USD.percent_change_90d'],['1h','24h','7d','30d','60d','90d'])\n",
    "df7"
   ]
  },
  {
   "cell_type": "code",
   "execution_count": null,
   "id": "d343a4aa",
   "metadata": {},
   "outputs": [],
   "source": [
    "import seaborn as sns\n",
    "import matplotlib.pyplot as plt"
   ]
  },
  {
   "cell_type": "code",
   "execution_count": null,
   "id": "3caca060",
   "metadata": {},
   "outputs": [],
   "source": [
    "# Visualization for coin values over time\n",
    "\n",
    "sns.catplot(x='percent_change', y='values', hue='name', data=df7, kind='point')"
   ]
  },
  {
   "cell_type": "code",
   "execution_count": null,
   "id": "36905a07",
   "metadata": {},
   "outputs": [],
   "source": [
    "# Creating visualization for just Bitcoin price changes\n",
    "\n",
    "df10 = df[['name','quote.USD.price','timestamp']]\n",
    "df10 = df10.query(\"name == 'Bitcoin'\")\n",
    "df10"
   ]
  },
  {
   "cell_type": "code",
   "execution_count": null,
   "id": "65136dd4",
   "metadata": {},
   "outputs": [],
   "source": [
    "sns.set_theme(style=\"darkgrid\")\n",
    "\n",
    "sns.lineplot(x='timestamp', y='quote.USD.price', data = df10)"
   ]
  }
 ],
 "metadata": {
  "kernelspec": {
   "display_name": "Python 3 (ipykernel)",
   "language": "python",
   "name": "python3"
  },
  "language_info": {
   "codemirror_mode": {
    "name": "ipython",
    "version": 3
   },
   "file_extension": ".py",
   "mimetype": "text/x-python",
   "name": "python",
   "nbconvert_exporter": "python",
   "pygments_lexer": "ipython3",
   "version": "3.11.5"
  }
 },
 "nbformat": 4,
 "nbformat_minor": 5
}
