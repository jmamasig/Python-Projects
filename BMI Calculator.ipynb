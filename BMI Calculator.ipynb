{
 "cells": [
  {
   "cell_type": "markdown",
   "id": "7cf8b4fe",
   "metadata": {},
   "source": [
    "# BMI Calculator"
   ]
  },
  {
   "cell_type": "markdown",
   "id": "0a1e13e6",
   "metadata": {},
   "source": [
    "https://www.cdc.gov/nccdphp/dnpao/growthcharts/training/bmiage/page5_2.html#:~:text=Formula%3A%20weight%20(lb)%20%2F,a%20conversion%20factor%20of%20703\n",
    "\n",
    "### BMI Formula\n",
    "#### BMI = (weight (lb) x 703) / (height (in) x height (in))\n",
    "\n",
    "### BMI Interpretations per the CDC\n",
    "##### If your BMI is less than 18.5, it falls within the underweight range.\n",
    "##### If your BMI is 18.5 to 24.9, it falls within the Healthy Weight range.\n",
    "##### If your BMI is 25.0 to 29.9, it falls within the overweight range.\n",
    "##### If your BMI is 30.0 or higher, it falls within the obese range."
   ]
  },
  {
   "cell_type": "code",
   "execution_count": null,
   "id": "c625b7f2",
   "metadata": {},
   "outputs": [],
   "source": [
    "# importing\n",
    "\n",
    "from ipywidgets import widgets\n",
    "from ipywidgets.widgets import Button\n",
    "from ipywidgets.widgets import Layout, VBox\n",
    "from IPython.display import display, clear_output"
   ]
  },
  {
   "cell_type": "code",
   "execution_count": null,
   "id": "61b6793a",
   "metadata": {},
   "outputs": [],
   "source": [
    "# building widgets\n",
    "\n",
    "name = widgets.Text(\n",
    "    placeholder = 'Enter your name',\n",
    "    description = 'Name: ',\n",
    "    disabled = False\n",
    ")\n",
    "# name <- functionality test\n",
    "\n",
    "weight = widgets.IntText(\n",
    "    value = 0,\n",
    "    description = 'Weight (lbs): ',\n",
    "    disbled = False\n",
    ")\n",
    "# weight <- functionality test\n",
    "\n",
    "height = widgets.IntText(\n",
    "    value = 0,\n",
    "    description = 'Height (in): ',\n",
    "    disabled = False\n",
    ")\n",
    "# height <- functionality test"
   ]
  },
  {
   "cell_type": "code",
   "execution_count": null,
   "id": "81cc0ba4",
   "metadata": {},
   "outputs": [],
   "source": [
    "# defining font customs\n",
    "class color:\n",
    "   BOLD = '\\033[1m'\n",
    "   END = '\\033[0m'\n",
    "\n",
    "# calculate button\n",
    "\n",
    "b_calc = Button(\n",
    "    description = 'Calculate',\n",
    "    layout=Layout(width='75px')\n",
    ")\n",
    "\n",
    "\n",
    "# button click\n",
    "def calc_click(self):\n",
    "    clear_output()\n",
    "    BMI = (weight.value * 703) / (height.value * height.value)\n",
    "    print(color.BOLD + str(round(BMI, 3)) + color.END)\n",
    "        \n",
    "    if BMI>0:\n",
    "            if(BMI<18.5):\n",
    "                print(color.BOLD + str(name.value) + color.END +\", your BMI is \" + color.BOLD + str(round(BMI, 3)) + color.END + \" indicating your weight is in the Underweight category for adults of your height.\")\n",
    "            elif(BMI<=24.9):\n",
    "                print(color.BOLD + str(name.value) + color.END +\", your BMI is \" + color.BOLD + str(round(BMI, 3)) + color.END + \" indicating your weight is in the Healthy Weight category for adults of your height.\")\n",
    "            elif(BMI<=29.9):\n",
    "                print(color.BOLD + str(name.value) + color.END +\", your BMI is \" + color.BOLD + str(round(BMI, 3)) + color.END + \" indicating your weight is in the Overweight category for adults of your height.\")\n",
    "            else:\n",
    "                print(color.BOLD + str(name.value) + color.END +\", your BMI is \" + color.BOLD + str(round(BMI, 3)) + color.END + \" indicating your weight is in the Obese category for adults of your height.\")\n",
    "    else:\n",
    "        print(\"Enter valid input.\")\n",
    "    display(app)\n",
    "        \n",
    "b_calc.on_click(calc_click)"
   ]
  },
  {
   "cell_type": "code",
   "execution_count": null,
   "id": "cbf8defe",
   "metadata": {},
   "outputs": [],
   "source": [
    "#join everything\n",
    "\n",
    "app = VBox(\n",
    "    children=(name, weight, height, b_calc)\n",
    ")"
   ]
  },
  {
   "cell_type": "code",
   "execution_count": null,
   "id": "727bebd8",
   "metadata": {},
   "outputs": [],
   "source": [
    "# display the app\n",
    "\n",
    "display(app)"
   ]
  }
 ],
 "metadata": {
  "kernelspec": {
   "display_name": "Python 3 (ipykernel)",
   "language": "python",
   "name": "python3"
  },
  "language_info": {
   "codemirror_mode": {
    "name": "ipython",
    "version": 3
   },
   "file_extension": ".py",
   "mimetype": "text/x-python",
   "name": "python",
   "nbconvert_exporter": "python",
   "pygments_lexer": "ipython3",
   "version": "3.11.5"
  }
 },
 "nbformat": 4,
 "nbformat_minor": 5
}
